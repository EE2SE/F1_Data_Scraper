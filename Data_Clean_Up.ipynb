{
 "cells": [
  {
   "cell_type": "markdown",
   "id": "3d1cdbc8-8bee-4ba1-8e4f-d50a0410bdf8",
   "metadata": {},
   "source": [
    "# Data Clean Up\n",
    "\n",
    "### Load all the libraries we will need:\n",
    "- Pandas, for CSV data manipulation\n",
    "- Seaborn, for pretty graphs\n",
    "- Matplotlib.pyplot, for less pretty graphs\n",
    "- Numpy, for some arithmetics"
   ]
  },
  {
   "cell_type": "code",
   "execution_count": 2,
   "id": "413810d5-d447-48ca-b307-83756b434af2",
   "metadata": {},
   "outputs": [],
   "source": [
    "import pandas as pd\n",
    "import seaborn as sns\n",
    "import matplotlib.pyplot as plt\n",
    "import numpy as np"
   ]
  },
  {
   "cell_type": "markdown",
   "id": "bf39082f-9afe-4782-aa9e-0c36d0a9803f",
   "metadata": {},
   "source": [
    "### Load files into the notebook\n",
    "\n",
    "Given the sheer quantity of the files, in the future this should be made into a database to save some lines of code."
   ]
  },
  {
   "cell_type": "code",
   "execution_count": 24,
   "id": "bcfe6082-25fd-4c54-b279-8582e1bde70f",
   "metadata": {},
   "outputs": [],
   "source": [
    "cir_df = pd.read_csv('f1_dataset/circuits.csv')  #0\n",
    "con_res_df = pd.read_csv('f1_dataset/constructor_results.csv') #1\n",
    "con_sta_df = pd.read_csv('f1_dataset/constructor_standings.csv') #2\n",
    "con_df = pd.read_csv('f1_dataset/constructors.csv') #3\n",
    "drv_sta_df = pd.read_csv('f1_dataset/driver_standings.csv') #4\n",
    "drv_df = pd.read_csv('f1_dataset/drivers.csv') #5\n",
    "lap_df = pd.read_csv('f1_dataset/lap_times.csv') #6\n",
    "pit_df = pd.read_csv('f1_dataset/pit_stops.csv') #7\n",
    "q_df = pd.read_csv('f1_dataset/qualifying.csv') #8\n",
    "rac_df = pd.read_csv('f1_dataset/races.csv') #9\n",
    "res_df = pd.read_csv('f1_dataset/results.csv') #10\n",
    "ssn_df = pd.read_csv('f1_dataset/seasons.csv') #11\n",
    "spr_res_df = pd.read_csv('f1_dataset/sprint_results.csv') #12\n",
    "sta_df = pd.read_csv('f1_dataset/status.csv') #13\n",
    "\n",
    "all_files = [cir_df, con_res_df, con_sta_df, con_df, drv_sta_df, drv_df, lap_df, pit_df, q_df, rac_df, res_df, ssn_df, spr_res_df, sta_df]\n",
    "\n"
   ]
  },
  {
   "cell_type": "markdown",
   "id": "6bc24454-3276-41d2-bce0-6ca00c42f445",
   "metadata": {},
   "source": [
    "### Look for missing data\n",
    "\n",
    "Only print the dataframes with empty cells\n"
   ]
  },
  {
   "cell_type": "code",
   "execution_count": 31,
   "id": "0b563369-63ef-41e5-9bc5-d1e0a729f1ac",
   "metadata": {},
   "outputs": [
    {
     "name": "stdout",
     "output_type": "stream",
     "text": [
      "Dataframe 8 contains empty fields\n",
      "qualifyId          0\n",
      "raceId             0\n",
      "driverId           0\n",
      "constructorId      0\n",
      "number             0\n",
      "position           0\n",
      "q1                 8\n",
      "q2               164\n",
      "q3               327\n",
      "dtype: int64\n"
     ]
    }
   ],
   "source": [
    "# Print the count of NaNs per column. This acheives the same as DataFrame.info(), but is in a more manageble format\n",
    "for i, df in enumerate(all_files):\n",
    "    temp_df = np.sum(df.isna(),axis=0)\n",
    "    if np.sum(temp_df) > 0:\n",
    "        print('Dataframe ' + str(i) + ' contains empty fields')\n",
    "        print(temp_df)"
   ]
  },
  {
   "cell_type": "markdown",
   "id": "60377ed6-fe1f-4aaa-8f51-b9332accba2b",
   "metadata": {},
   "source": [
    "### Quali dataset\n",
    "Only ```q_df``` dataframe has empty values. One may have a good idea why that is, looking where the data is missing. Some datapoints are missing from Q1, more from Q2 and most from Q3. This pattern clearly coincides with qualification elimination.\n",
    "\n",
    "Seeing the data below, looks like the drivers who did not have a Q1 entry still participated in the races. Checking some of the reasons for these occurences we can learnt hat for example in Azerbaijan 2019 GP (raceId 1013), Pierre Gasly and Kimi Raikkonen were disqualified from quali, thus removing their set times. Yet, they were still allowed to participate in the race."
   ]
  },
  {
   "cell_type": "code",
   "execution_count": 47,
   "id": "abce2fb0-3d05-43d8-922a-c48f00e126b5",
   "metadata": {},
   "outputs": [
    {
     "data": {
      "text/html": [
       "<div>\n",
       "<style scoped>\n",
       "    .dataframe tbody tr th:only-of-type {\n",
       "        vertical-align: middle;\n",
       "    }\n",
       "\n",
       "    .dataframe tbody tr th {\n",
       "        vertical-align: top;\n",
       "    }\n",
       "\n",
       "    .dataframe thead th {\n",
       "        text-align: right;\n",
       "    }\n",
       "</style>\n",
       "<table border=\"1\" class=\"dataframe\">\n",
       "  <thead>\n",
       "    <tr style=\"text-align: right;\">\n",
       "      <th></th>\n",
       "      <th>raceId</th>\n",
       "      <th>driverId</th>\n",
       "      <th>q1</th>\n",
       "      <th>grid</th>\n",
       "      <th>position_x</th>\n",
       "      <th>position_y</th>\n",
       "    </tr>\n",
       "  </thead>\n",
       "  <tbody>\n",
       "    <tr>\n",
       "      <th>0</th>\n",
       "      <td>983</td>\n",
       "      <td>20</td>\n",
       "      <td>NaN</td>\n",
       "      <td>20</td>\n",
       "      <td>20</td>\n",
       "      <td>4</td>\n",
       "    </tr>\n",
       "    <tr>\n",
       "      <th>1</th>\n",
       "      <td>993</td>\n",
       "      <td>843</td>\n",
       "      <td>NaN</td>\n",
       "      <td>20</td>\n",
       "      <td>20</td>\n",
       "      <td>12</td>\n",
       "    </tr>\n",
       "    <tr>\n",
       "      <th>2</th>\n",
       "      <td>994</td>\n",
       "      <td>830</td>\n",
       "      <td>NaN</td>\n",
       "      <td>20</td>\n",
       "      <td>20</td>\n",
       "      <td>9</td>\n",
       "    </tr>\n",
       "    <tr>\n",
       "      <th>3</th>\n",
       "      <td>995</td>\n",
       "      <td>154</td>\n",
       "      <td>NaN</td>\n",
       "      <td>20</td>\n",
       "      <td>20</td>\n",
       "      <td>12</td>\n",
       "    </tr>\n",
       "    <tr>\n",
       "      <th>4</th>\n",
       "      <td>1013</td>\n",
       "      <td>8</td>\n",
       "      <td>NaN</td>\n",
       "      <td>0</td>\n",
       "      <td>19</td>\n",
       "      <td>10</td>\n",
       "    </tr>\n",
       "    <tr>\n",
       "      <th>5</th>\n",
       "      <td>1013</td>\n",
       "      <td>842</td>\n",
       "      <td>NaN</td>\n",
       "      <td>0</td>\n",
       "      <td>20</td>\n",
       "      <td>\\N</td>\n",
       "    </tr>\n",
       "    <tr>\n",
       "      <th>6</th>\n",
       "      <td>1020</td>\n",
       "      <td>20</td>\n",
       "      <td>NaN</td>\n",
       "      <td>20</td>\n",
       "      <td>20</td>\n",
       "      <td>2</td>\n",
       "    </tr>\n",
       "    <tr>\n",
       "      <th>7</th>\n",
       "      <td>1024</td>\n",
       "      <td>817</td>\n",
       "      <td>NaN</td>\n",
       "      <td>20</td>\n",
       "      <td>20</td>\n",
       "      <td>14</td>\n",
       "    </tr>\n",
       "  </tbody>\n",
       "</table>\n",
       "</div>"
      ],
      "text/plain": [
       "   raceId  driverId   q1  grid  position_x position_y\n",
       "0     983        20  NaN    20          20          4\n",
       "1     993       843  NaN    20          20         12\n",
       "2     994       830  NaN    20          20          9\n",
       "3     995       154  NaN    20          20         12\n",
       "4    1013         8  NaN     0          19         10\n",
       "5    1013       842  NaN     0          20         \\N\n",
       "6    1020        20  NaN    20          20          2\n",
       "7    1024       817  NaN    20          20         14"
      ]
     },
     "execution_count": 47,
     "metadata": {},
     "output_type": "execute_result"
    }
   ],
   "source": [
    "# select just Q1 NaNs\n",
    "q1_na = q_df.loc[q_df['q1'].isna()]\n",
    "# understand more about those drivers who didnt have a Q1 timed entry by looking at their race result\n",
    "q1_more_info = pd.merge(q1_na, res_df,  how='left', left_on=['raceId','driverId'], right_on = ['raceId','driverId'])\n",
    "# show \n",
    "q1_more_info[['raceId','driverId','q1','grid','position_x','position_y']].head(10)"
   ]
  },
  {
   "cell_type": "markdown",
   "id": "782b67f5-ae02-4f08-86eb-46c01a5e4694",
   "metadata": {},
   "source": [
    "There are too many Q2 and Q3 NaN entries to check them one by one for a specific reason. We can fairly safely judge that most of them are correct due to Q1 and Q2 elimination respectively. \n",
    "\n",
    "We can just sense check that all Q2 participants have a Q1 time recorded, and that all Q3 participants have a Q2 time recorded. And indeed - analysis below shows all participants have all the relevant quali times recorded. We therefore can conclude this dataset is complete."
   ]
  },
  {
   "cell_type": "code",
   "execution_count": 53,
   "id": "89fd8ad5-7744-4e56-a326-d77b3c0f55b7",
   "metadata": {},
   "outputs": [
    {
     "data": {
      "text/html": [
       "<div>\n",
       "<style scoped>\n",
       "    .dataframe tbody tr th:only-of-type {\n",
       "        vertical-align: middle;\n",
       "    }\n",
       "\n",
       "    .dataframe tbody tr th {\n",
       "        vertical-align: top;\n",
       "    }\n",
       "\n",
       "    .dataframe thead th {\n",
       "        text-align: right;\n",
       "    }\n",
       "</style>\n",
       "<table border=\"1\" class=\"dataframe\">\n",
       "  <thead>\n",
       "    <tr style=\"text-align: right;\">\n",
       "      <th></th>\n",
       "      <th>qualifyId</th>\n",
       "      <th>raceId</th>\n",
       "      <th>driverId</th>\n",
       "      <th>constructorId</th>\n",
       "      <th>number</th>\n",
       "      <th>position</th>\n",
       "      <th>q1</th>\n",
       "      <th>q2</th>\n",
       "      <th>q3</th>\n",
       "    </tr>\n",
       "  </thead>\n",
       "  <tbody>\n",
       "  </tbody>\n",
       "</table>\n",
       "</div>"
      ],
      "text/plain": [
       "Empty DataFrame\n",
       "Columns: [qualifyId, raceId, driverId, constructorId, number, position, q1, q2, q3]\n",
       "Index: []"
      ]
     },
     "execution_count": 53,
     "metadata": {},
     "output_type": "execute_result"
    }
   ],
   "source": [
    "# find every racer who is in Q2\n",
    "q2_entrants = q_df.loc[~q_df['q2'].isna()]\n",
    "# see if any of them have a NaN in Q1 entry\n",
    "q2_entrants.loc[q2_entrants['q1'].isna()]"
   ]
  },
  {
   "cell_type": "code",
   "execution_count": 54,
   "id": "62447c70-7ee9-48a3-be5d-a1e0e5cd8430",
   "metadata": {},
   "outputs": [
    {
     "data": {
      "text/html": [
       "<div>\n",
       "<style scoped>\n",
       "    .dataframe tbody tr th:only-of-type {\n",
       "        vertical-align: middle;\n",
       "    }\n",
       "\n",
       "    .dataframe tbody tr th {\n",
       "        vertical-align: top;\n",
       "    }\n",
       "\n",
       "    .dataframe thead th {\n",
       "        text-align: right;\n",
       "    }\n",
       "</style>\n",
       "<table border=\"1\" class=\"dataframe\">\n",
       "  <thead>\n",
       "    <tr style=\"text-align: right;\">\n",
       "      <th></th>\n",
       "      <th>qualifyId</th>\n",
       "      <th>raceId</th>\n",
       "      <th>driverId</th>\n",
       "      <th>constructorId</th>\n",
       "      <th>number</th>\n",
       "      <th>position</th>\n",
       "      <th>q1</th>\n",
       "      <th>q2</th>\n",
       "      <th>q3</th>\n",
       "    </tr>\n",
       "  </thead>\n",
       "  <tbody>\n",
       "  </tbody>\n",
       "</table>\n",
       "</div>"
      ],
      "text/plain": [
       "Empty DataFrame\n",
       "Columns: [qualifyId, raceId, driverId, constructorId, number, position, q1, q2, q3]\n",
       "Index: []"
      ]
     },
     "execution_count": 54,
     "metadata": {},
     "output_type": "execute_result"
    }
   ],
   "source": [
    "# find every racer who is in Q2\n",
    "q3_entrants = q_df.loc[~q_df['q3'].isna()]\n",
    "# see if any of them have a NaN in Q1 entry\n",
    "q3_entrants.loc[q3_entrants['q2'].isna()]"
   ]
  },
  {
   "cell_type": "code",
   "execution_count": null,
   "id": "69c29a0f-c9ec-4d10-a566-88d801661404",
   "metadata": {},
   "outputs": [],
   "source": []
  }
 ],
 "metadata": {
  "kernelspec": {
   "display_name": "Python 3 (ipykernel)",
   "language": "python",
   "name": "python3"
  },
  "language_info": {
   "codemirror_mode": {
    "name": "ipython",
    "version": 3
   },
   "file_extension": ".py",
   "mimetype": "text/x-python",
   "name": "python",
   "nbconvert_exporter": "python",
   "pygments_lexer": "ipython3",
   "version": "3.11.7"
  }
 },
 "nbformat": 4,
 "nbformat_minor": 5
}
