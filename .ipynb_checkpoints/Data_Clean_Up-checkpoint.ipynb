{
 "cells": [
  {
   "cell_type": "markdown",
   "id": "3d1cdbc8-8bee-4ba1-8e4f-d50a0410bdf8",
   "metadata": {},
   "source": [
    "# Data Clean Up\n",
    "\n",
    "### Load all the libraries we will need:\n",
    "- Pandas, for CSV data manipulation\n",
    "- Seaborn, for pretty graphs\n",
    "- Matplotlib.pyplot, for less pretty graphs\n",
    "- Numpy, for some arithmetics"
   ]
  },
  {
   "cell_type": "code",
   "execution_count": 2,
   "id": "413810d5-d447-48ca-b307-83756b434af2",
   "metadata": {},
   "outputs": [],
   "source": [
    "import pandas as pd\n",
    "import seaborn as sns\n",
    "import matplotlib.pyplot as plt\n",
    "import numpy as np"
   ]
  },
  {
   "cell_type": "markdown",
   "id": "bf39082f-9afe-4782-aa9e-0c36d0a9803f",
   "metadata": {},
   "source": [
    "### Load files into the notebook\n",
    "\n",
    "Given the sheer quantity of the files, in the future this should be made into a database to save some lines of code."
   ]
  },
  {
   "cell_type": "code",
   "execution_count": 24,
   "id": "bcfe6082-25fd-4c54-b279-8582e1bde70f",
   "metadata": {},
   "outputs": [],
   "source": [
    "cir_df = pd.read_csv('f1_dataset/circuits.csv')  #0\n",
    "con_res_df = pd.read_csv('f1_dataset/constructor_results.csv') #1\n",
    "con_sta_df = pd.read_csv('f1_dataset/constructor_standings.csv') #2\n",
    "con_df = pd.read_csv('f1_dataset/constructors.csv') #3\n",
    "drv_sta_df = pd.read_csv('f1_dataset/driver_standings.csv') #4\n",
    "drv_df = pd.read_csv('f1_dataset/drivers.csv') #5\n",
    "lap_df = pd.read_csv('f1_dataset/lap_times.csv') #6\n",
    "pit_df = pd.read_csv('f1_dataset/pit_stops.csv') #7\n",
    "q_df = pd.read_csv('f1_dataset/qualifying.csv') #8\n",
    "rac_df = pd.read_csv('f1_dataset/races.csv') #9\n",
    "res_df = pd.read_csv('f1_dataset/results.csv') #10\n",
    "ssn_df = pd.read_csv('f1_dataset/seasons.csv') #11\n",
    "spr_res_df = pd.read_csv('f1_dataset/sprint_results.csv') #12\n",
    "sta_df = pd.read_csv('f1_dataset/status.csv') #13\n",
    "\n",
    "all_files = [cir_df, con_res_df, con_sta_df, con_df, drv_sta_df, drv_df, lap_df, pit_df, q_df, rac_df, res_df, ssn_df, spr_res_df, sta_df]\n",
    "\n"
   ]
  },
  {
   "cell_type": "markdown",
   "id": "6bc24454-3276-41d2-bce0-6ca00c42f445",
   "metadata": {},
   "source": [
    "### Look for missing data\n",
    "\n",
    "Only print the dataframes with empty cells\n"
   ]
  },
  {
   "cell_type": "code",
   "execution_count": 31,
   "id": "0b563369-63ef-41e5-9bc5-d1e0a729f1ac",
   "metadata": {},
   "outputs": [
    {
     "name": "stdout",
     "output_type": "stream",
     "text": [
      "Dataframe 8 contains empty fields\n",
      "qualifyId          0\n",
      "raceId             0\n",
      "driverId           0\n",
      "constructorId      0\n",
      "number             0\n",
      "position           0\n",
      "q1                 8\n",
      "q2               164\n",
      "q3               327\n",
      "dtype: int64\n"
     ]
    }
   ],
   "source": [
    "# Print the count of NaNs per column. This acheives the same as DataFrame.info(), but is in a more manageble format\n",
    "for i, df in enumerate(all_files):\n",
    "    temp_df = np.sum(df.isna(),axis=0)\n",
    "    if np.sum(temp_df) > 0:\n",
    "        print('Dataframe ' + str(i) + ' contains empty fields')\n",
    "        print(temp_df)"
   ]
  },
  {
   "cell_type": "markdown",
   "id": "60377ed6-fe1f-4aaa-8f51-b9332accba2b",
   "metadata": {},
   "source": [
    "### Quali dataset\n",
    "Only ```q_df``` dataframe has empty values. One may have a good idea why that is, looking where the data is missing. Some datapoints are missing from Q1, more from Q2 and most from Q3. This pattern clearly coincides with qualification elimination."
   ]
  },
  {
   "cell_type": "code",
   "execution_count": null,
   "id": "abce2fb0-3d05-43d8-922a-c48f00e126b5",
   "metadata": {},
   "outputs": [],
   "source": []
  }
 ],
 "metadata": {
  "kernelspec": {
   "display_name": "Python 3 (ipykernel)",
   "language": "python",
   "name": "python3"
  },
  "language_info": {
   "codemirror_mode": {
    "name": "ipython",
    "version": 3
   },
   "file_extension": ".py",
   "mimetype": "text/x-python",
   "name": "python",
   "nbconvert_exporter": "python",
   "pygments_lexer": "ipython3",
   "version": "3.11.7"
  }
 },
 "nbformat": 4,
 "nbformat_minor": 5
}
